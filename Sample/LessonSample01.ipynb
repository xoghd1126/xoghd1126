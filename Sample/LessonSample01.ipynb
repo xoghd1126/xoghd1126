{
  "nbformat": 4,
  "nbformat_minor": 0,
  "metadata": {
    "colab": {
      "private_outputs": true,
      "provenance": [],
      "include_colab_link": true
    },
    "kernelspec": {
      "name": "python3",
      "display_name": "Python 3"
    },
    "language_info": {
      "name": "python"
    }
  },
  "cells": [
    {
      "cell_type": "markdown",
      "metadata": {
        "id": "view-in-github",
        "colab_type": "text"
      },
      "source": [
        "<a href=\"https://colab.research.google.com/github/xoghd1126/xoghd1126/blob/main/Sample/LessonSample01.ipynb\" target=\"_parent\"><img src=\"https://colab.research.google.com/assets/colab-badge.svg\" alt=\"Open In Colab\"/></a>"
      ]
    },
    {
      "cell_type": "markdown",
      "source": [
        "# 😊 Lecture slides before we examine a partial lesson sample (0514)"
      ],
      "metadata": {
        "id": "UeOjw_J2W6tv"
      }
    },
    {
      "cell_type": "code",
      "source": [
        "from IPython.display import Image\n",
        "\n",
        "sid = \"2\" #@param = [1,2,3]\n",
        "\n",
        "nid = int(sid)-1\n",
        "\n",
        "urls = [\n",
        "    \"https://github.com/MK316/Spring2024/raw/main/DLTESOL/data/0514TESOL.001.png\",\n",
        "    \"https://github.com/MK316/Spring2024/raw/main/DLTESOL/data/0514TESOL.002.png\",\n",
        "    \"https://github.com/MK316/Spring2024/raw/main/DLTESOL/data/0514TESOL.003.png\"\n",
        "    ]\n",
        "\n",
        "Image(urls[nid], width =\" 600\", height = \"500\")"
      ],
      "metadata": {
        "id": "xpFHd63zXcW8"
      },
      "execution_count": null,
      "outputs": []
    },
    {
      "cell_type": "markdown",
      "source": [
        "# 📗 Lesson Sample (0514)\n",
        "\n",
        "+ 🔵 Text: The Cave of Whisper (less than 600 words, 8th graders) [link](https://raw.githubusercontent.com/MK316/Spring2024/main/Sample/storysample.txt)\n",
        "+ 🔵 To share the live link with students, generate QR at [my application](https://huggingface.co/spaces/MK-316/QRpng)"
      ],
      "metadata": {
        "id": "Ck5WwVI2I4Mj"
      }
    },
    {
      "cell_type": "markdown",
      "source": [
        "## [0] Install necessary packages\n",
        "\n",
        "+ **wordcloud**: to generate a wordcloud\n",
        "+ **matplotlib**: to generate image files\n",
        "+ **gradio**: to implement our code as a web-interface application\n",
        "+ **gtts**: text-to-audio\n",
        "+ nltk: natural language processing (word list)\n",
        "+ pyqrcode: to generate a QR code to share with the user"
      ],
      "metadata": {
        "id": "S47Sbn25Kfj6"
      }
    },
    {
      "cell_type": "code",
      "source": [
        "%%capture\n",
        "!pip install wordcloud matplotlib gradio gtts nltk pyqrcode"
      ],
      "metadata": {
        "id": "4f-C2Ic9KiK3"
      },
      "execution_count": null,
      "outputs": []
    },
    {
      "cell_type": "markdown",
      "source": [
        "## Section [1] What is the story about? (Visual summary using Wordcloud)\n",
        "\n",
        "[text to copy](https://raw.githubusercontent.com/MK316/Spring2024/main/Sample/storysample.txt)"
      ],
      "metadata": {
        "id": "QtcC96a9KCNb"
      }
    },
    {
      "cell_type": "code",
      "source": [
        "# Paste the story when the pop-up box appears\n",
        "text=input()"
      ],
      "metadata": {
        "id": "gq_hJJMDLC2d"
      },
      "execution_count": null,
      "outputs": []
    },
    {
      "cell_type": "code",
      "source": [
        "#@markdown Word cloud generation\n",
        "#!pip install wordcloud matplotlib\n",
        "\n",
        "from wordcloud import WordCloud\n",
        "import matplotlib.pyplot as plt\n",
        "\n",
        "# Generate word cloud\n",
        "\n",
        "wordcloud = WordCloud(width = 800, height = 800,\n",
        "                      background_color ='white',\n",
        "                      min_font_size = 10).generate(text)\n",
        "\n",
        "# Display the word cloud using matplotlib\n",
        "plt.figure(figsize = (8, 8), facecolor = None) # e.g., facecolor = \"gray\"\n",
        "plt.imshow(wordcloud)\n",
        "plt.axis(\"off\")\n",
        "plt.tight_layout(pad = 0)\n",
        "\n",
        "print(\"Title: The Cave of Whisper\")\n",
        "plt.show()\n",
        "plt.savefig('myimage.png')"
      ],
      "metadata": {
        "collapsed": true,
        "id": "qRGHzNZiKwJL"
      },
      "execution_count": null,
      "outputs": []
    },
    {
      "cell_type": "markdown",
      "source": [
        "## Section [2] Listen to the story (video)\n",
        "\n",
        "[Video link](https://youtu.be/tGYsqxaLDlQ)"
      ],
      "metadata": {
        "id": "ooPa1a0OvdcX"
      }
    },
    {
      "cell_type": "code",
      "source": [
        "#@markdown Video to watch (from Youtube): Story video\n",
        "\n",
        "from IPython.display import YouTubeVideo\n",
        "\n",
        "YouTubeVideo('tGYsqxaLDlQ', width=600, height=400)  # This is an example video ID"
      ],
      "metadata": {
        "collapsed": true,
        "id": "KOKQFZ-2vg36"
      },
      "execution_count": null,
      "outputs": []
    },
    {
      "cell_type": "markdown",
      "source": [
        "## Section [3] Learn vocabulary: Making a word list"
      ],
      "metadata": {
        "id": "jeqwqz2ELUEw"
      }
    },
    {
      "cell_type": "code",
      "source": [
        "#!pip install nltk\n",
        "# text = input()  # We'll use the same text here\n",
        "\n",
        "# Step 1: Import necessary libraries\n",
        "import nltk\n",
        "from nltk.corpus import stopwords\n",
        "from nltk.tokenize import word_tokenize\n",
        "from nltk.probability import FreqDist\n",
        "import re\n",
        "\n",
        "# Step 2: Download necessary NLTK resources\n",
        "nltk.download('punkt')\n",
        "nltk.download('stopwords')"
      ],
      "metadata": {
        "id": "QISb3OTnLTr_"
      },
      "execution_count": null,
      "outputs": []
    },
    {
      "cell_type": "code",
      "source": [
        "#@markdown Making a wordlist by frequency (as 'df' dataframe)\n",
        "\n",
        "# Step 3: Prepare the stop words\n",
        "stop_words = set(stopwords.words('english'))\n",
        "\n",
        "# Add more custom stop words\n",
        "additional_stop_words = ['word1', 'word2']\n",
        "stop_words.update(additional_stop_words)\n",
        "\n",
        "# Step 4: Clean the text\n",
        "# Use regular expressions to remove punctuation and numbers\n",
        "clean_text = re.sub(r'[^\\w\\s]', '', text)  # Remove punctuation\n",
        "clean_text = re.sub(r'\\d+', '', clean_text)  # Remove numbers\n",
        "\n",
        "# Step 5: Tokenize the text and remove stop words\n",
        "words = word_tokenize(clean_text)\n",
        "filtered_words = [word.lower() for word in words if word.lower() not in stop_words]\n",
        "\n",
        "# print(clean_text)\n",
        "# print(\"Filtered words: \", filtered_words)\n",
        "\n",
        "# Step 6: Create frequency distribution\n",
        "freq_dist = FreqDist(filtered_words)\n",
        "\n",
        "# Step 7: Convert frequency distribution to a sorted list of tuples (word, frequency)\n",
        "\n",
        "sorted_freq_list = sorted(freq_dist.items(), key=lambda x: x[1], reverse=True)\n",
        "\n",
        "# # Display the sorted frequency list\n",
        "# for word, frequency in sorted_freq_list:\n",
        "#     print(f'{word}: {frequency}')\n",
        "\n",
        "# Step 8: Convert frequency distribution to a DataFrame and a csv file\n",
        "\n",
        "import pandas as pd\n",
        "\n",
        "df = pd.DataFrame(sorted_freq_list, columns=['Word', 'Frequency'])\n",
        "\n",
        "print(f\"Number of words: {len(filtered_words)}\")\n"
      ],
      "metadata": {
        "cellView": "form",
        "id": "8_rT6egzK9TZ"
      },
      "execution_count": null,
      "outputs": []
    },
    {
      "cell_type": "code",
      "source": [
        "# Step 9: Save the DataFrame to a CSV file\n",
        "\n",
        "df.to_csv(\"wordlist.csv\", index=False)"
      ],
      "metadata": {
        "id": "BbWM1ZCML_DT"
      },
      "execution_count": null,
      "outputs": []
    },
    {
      "cell_type": "markdown",
      "source": [
        "### Note: Save the file (wordstolearn.csv) on your github if you want to share it with your students. Teachers may want to review the wordlist and select targets to teach in the class.\n",
        "\n",
        "+ 💾 [file example](https://github.com/MK316/Spring2024/blob/main/Sample/wordstolearn.csv)"
      ],
      "metadata": {
        "id": "ldyj3ePYOA-4"
      }
    },
    {
      "cell_type": "markdown",
      "source": [
        "### Here's an App for the above process: [link](https://huggingface.co/spaces/MK-316/freqlist) at Huggingface"
      ],
      "metadata": {
        "id": "3uoVYXyOF4Lf"
      }
    },
    {
      "cell_type": "markdown",
      "source": [
        "# 😃 **Part II: Consider the following: What would you like to do with the word list next?**\n",
        "\n",
        "## [1] Allow the user to review the words and check the ones that are unfamiliar to them. Or provide audio for the selected words. (Interactive; self-practice)\n",
        "\n",
        "## [2] Allow the user to select a word to listen to its pronunciation. (Interactive; self-practice)\n",
        "\n",
        "## [3] Read-Aloud practice: allow the user to practice reading-aloud with the audio. (Interactive; self-practice)"
      ],
      "metadata": {
        "id": "xe0xwsk2M_Q2"
      }
    },
    {
      "cell_type": "code",
      "source": [
        "%%capture\n",
        "!pip install pandas gradio gtts"
      ],
      "metadata": {
        "id": "DdKNfVhTNCqo"
      },
      "execution_count": null,
      "outputs": []
    },
    {
      "cell_type": "code",
      "source": [
        "import pandas as pd\n",
        "\n",
        "# Replace the URL with the direct link to the raw CSV file on GitHub\n",
        "url = \"https://raw.githubusercontent.com/MK316/Spring2024/main/Sample/wordstolearn.csv\"\n",
        "df = pd.read_csv(url)\n",
        "df.head()"
      ],
      "metadata": {
        "collapsed": true,
        "id": "YO_hYuawOJJv"
      },
      "execution_count": null,
      "outputs": []
    },
    {
      "cell_type": "markdown",
      "source": [
        "## Section [1] 🔵 Gradio implementation #1: Audio for selected words by the user"
      ],
      "metadata": {
        "id": "6ExPGxbqv_Ag"
      }
    },
    {
      "cell_type": "code",
      "source": [
        "#@markdown Gradio app: display words to learn and generate audio of the user selected words\n",
        "\n",
        "import pandas as pd\n",
        "from gtts import gTTS\n",
        "import gradio as gr\n",
        "import os\n",
        "\n",
        "\n",
        "def check_words(selected_words):\n",
        "    phrase = \"Let me say the words you selected: \"\n",
        "    phrase += \", \".join(f\"Number {i + 1}. {word}\" for i, word in enumerate(selected_words))\n",
        "\n",
        "    tts = gTTS(text=phrase, lang='en')\n",
        "    audio_path = 'selected_words.mp3'\n",
        "    tts.save(audio_path)\n",
        "\n",
        "    return audio_path\n",
        "\n",
        "words = df['Word'].tolist()\n",
        "\n",
        "iface = gr.Interface(\n",
        "    fn=check_words,\n",
        "    inputs=gr.components.CheckboxGroup(choices=words, label=\"Check the words you do not know how to pronounce:\"),\n",
        "    outputs=gr.Audio(label=\"Listen to the Pronunciation\"),\n",
        "    title=\"Learn to Pronounce\",\n",
        "    description=\"Check the words you are not sure how to pronounce and submit to listen to their pronunciation.\"\n",
        ")\n",
        "\n",
        "iface.launch()\n"
      ],
      "metadata": {
        "cellView": "form",
        "id": "gQXtpvQc7I-E"
      },
      "execution_count": null,
      "outputs": []
    },
    {
      "cell_type": "markdown",
      "source": [
        "## Section [2] 🔵 Gradio implementation #2: Audio for selected words by the user"
      ],
      "metadata": {
        "id": "ThjrzzAkP-7j"
      }
    },
    {
      "cell_type": "code",
      "source": [
        "# Load data (from your Github)\n",
        "url = \"https://raw.githubusercontent.com/MK316/Spring2024/main/Sample/wordstolearn.csv\"\n",
        "words = df['Word'].tolist()"
      ],
      "metadata": {
        "id": "jjfJfUhj_wZ4"
      },
      "execution_count": null,
      "outputs": []
    },
    {
      "cell_type": "code",
      "source": [
        "#@markdown Gradio app for a single word pronunciation\n",
        "\n",
        "import gradio as gr\n",
        "import pandas as pd\n",
        "from gtts import gTTS\n",
        "import os\n",
        "\n",
        "\n",
        "def check_word(word):\n",
        "    if not os.path.exists('audio_files'):\n",
        "        os.makedirs('audio_files')\n",
        "\n",
        "    audio_path = f'audio_files/{word}.mp3'\n",
        "    if not os.path.exists(audio_path):  # Generate file if it doesn't exist\n",
        "        tts = gTTS(text=word, lang='en')\n",
        "        tts.save(audio_path)\n",
        "\n",
        "    return audio_path\n",
        "\n",
        "iface = gr.Interface(\n",
        "    fn=check_word,\n",
        "    inputs=gr.Dropdown(choices=words, label=\"Select a word you do not know how to pronounce:\"),\n",
        "    outputs=gr.Audio(label=\"Listen to the Pronunciation\"),\n",
        "    title=\"Learn to Pronounce\",\n",
        "    description=\"Select a word and submit to listen to its pronunciation.\"\n",
        ")\n",
        "\n",
        "iface.launch()\n"
      ],
      "metadata": {
        "cellView": "form",
        "id": "EodtqUEEQuyV"
      },
      "execution_count": null,
      "outputs": []
    },
    {
      "cell_type": "markdown",
      "source": [
        "## Section [3] 🔵 Read aloud practice? Sentence by sentence\n",
        "\n",
        "[text to copy](https://raw.githubusercontent.com/MK316/Spring2024/main/Sample/storysample.txt)"
      ],
      "metadata": {
        "id": "Y4QcdyxqwQj3"
      }
    },
    {
      "cell_type": "code",
      "source": [
        "#%%capture\n",
        "#!pip install gradio gtts nltk\n"
      ],
      "metadata": {
        "id": "aLF3GKyIwU1w"
      },
      "execution_count": null,
      "outputs": []
    },
    {
      "cell_type": "code",
      "source": [
        "# Predefined text\n",
        "mytext = input()"
      ],
      "metadata": {
        "id": "Z_UXc73c0gYO"
      },
      "execution_count": null,
      "outputs": []
    },
    {
      "cell_type": "markdown",
      "source": [
        "Gradio implementation"
      ],
      "metadata": {
        "id": "0tp2JlTa1INk"
      }
    },
    {
      "cell_type": "code",
      "source": [
        "#@markdown Gradio app for Read-Aloud practice (by sentences)\n",
        "import gradio as gr\n",
        "from gtts import gTTS\n",
        "from nltk import tokenize\n",
        "import os\n",
        "\n",
        "# Import necessary nltk libraries\n",
        "import nltk\n",
        "nltk.download('punkt')\n",
        "\n",
        "\n",
        "# Tokenize the predefined text into sentences\n",
        "sentences = tokenize.sent_tokenize(mytext)\n",
        "\n",
        "def generate_audio(selected_item):\n",
        "    index_str = selected_item.split('.')[0]\n",
        "    index = int(index_str) - 1  # Adjust for 0-based index\n",
        "\n",
        "    if 0 <= index < len(sentences):\n",
        "        sentence = sentences[index]\n",
        "        tts = gTTS(text=sentence, lang='en')\n",
        "        audio_path = f'sentence_{index + 1}.mp3'\n",
        "        tts.save(audio_path)\n",
        "        return audio_path\n",
        "    else:\n",
        "        return \"Invalid sentence number\"\n",
        "\n",
        "# Gradio interface\n",
        "iface = gr.Interface(\n",
        "    fn=generate_audio,\n",
        "    inputs=gr.Dropdown(choices=[f\"{i + 1}. {s}\" for i, s in enumerate(sentences)], label=\"Select Sentence\"),\n",
        "    outputs=gr.Audio(label=\"Audio of Selected Sentence\"),\n",
        "    title=\"Text to Audio by Sentence\",\n",
        "    description=\"Select a sentence number to hear it spoken.\"\n",
        ")\n",
        "\n",
        "iface.launch()\n"
      ],
      "metadata": {
        "cellView": "form",
        "id": "IB2uL7nr0YNn"
      },
      "execution_count": null,
      "outputs": []
    },
    {
      "cell_type": "markdown",
      "source": [
        "🔵 To share the live link with students, generate QR at [my application](https://huggingface.co/spaces/MK-316/QRpng) or run the code below."
      ],
      "metadata": {
        "id": "diEej0jaCPDA"
      }
    },
    {
      "cell_type": "code",
      "source": [
        "#@markdown Enter a link, save it as a png image file, and display\n",
        "import pyqrcode\n",
        "from IPython.display import Image, display\n",
        "\n",
        "# Input for the link\n",
        "s = input(\"Paste the link: \")\n",
        "\n",
        "# Generate QR code\n",
        "url = pyqrcode.create(s)\n",
        "\n",
        "# Create and save the png file naming \"myqr.png\"\n",
        "file_name = \"myqrcode.png\"\n",
        "url.png(file_name, scale=10)\n",
        "\n",
        "# Display the PNG file\n",
        "def show_png(file):\n",
        "    display(Image(file))\n",
        "\n",
        "show_png(file_name)"
      ],
      "metadata": {
        "cellView": "form",
        "id": "rl9dtT7UAvgK"
      },
      "execution_count": null,
      "outputs": []
    },
    {
      "cell_type": "markdown",
      "source": [
        "---\n",
        "😍 See you in the next class! The END"
      ],
      "metadata": {
        "id": "WSLLbaxK1NS9"
      }
    }
  ]
}